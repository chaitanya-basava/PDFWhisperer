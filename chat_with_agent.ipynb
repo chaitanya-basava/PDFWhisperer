{
 "cells": [
  {
   "cell_type": "code",
   "id": "initial_id",
   "metadata": {
    "collapsed": true,
    "ExecuteTime": {
     "end_time": "2024-07-25T22:22:25.667414Z",
     "start_time": "2024-07-25T22:22:22.358028Z"
    }
   },
   "source": [
    "from model import LLM\n",
    "from pdf_parser import process_pdf"
   ],
   "outputs": [
    {
     "name": "stdout",
     "output_type": "stream",
     "text": [
      "True\n"
     ]
    }
   ],
   "execution_count": 1
  },
  {
   "metadata": {
    "ExecuteTime": {
     "end_time": "2024-07-25T22:22:27.003496Z",
     "start_time": "2024-07-25T22:22:25.670074Z"
    }
   },
   "cell_type": "code",
   "source": [
    "llm = LLM.get_llm(LLM.get_llm_by_id(2))\n",
    "retriever = process_pdf(\"/Users/chaitanyabasava/Desktop/Sai Naga Viswa Chaitanya_Basava_resume.pdf\")"
   ],
   "id": "3275797efeb41ea0",
   "outputs": [],
   "execution_count": 2
  },
  {
   "metadata": {},
   "cell_type": "code",
   "outputs": [],
   "execution_count": null,
   "source": "",
   "id": "47deabb8cb14e679"
  }
 ],
 "metadata": {
  "kernelspec": {
   "display_name": "Python 3",
   "language": "python",
   "name": "python3"
  },
  "language_info": {
   "codemirror_mode": {
    "name": "ipython",
    "version": 2
   },
   "file_extension": ".py",
   "mimetype": "text/x-python",
   "name": "python",
   "nbconvert_exporter": "python",
   "pygments_lexer": "ipython2",
   "version": "2.7.6"
  }
 },
 "nbformat": 4,
 "nbformat_minor": 5
}
