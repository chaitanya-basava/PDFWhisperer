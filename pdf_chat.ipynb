{
 "cells": [
  {
   "metadata": {},
   "cell_type": "code",
   "source": [
    "from dotenv import load_dotenv\n",
    "load_dotenv()"
   ],
   "id": "2f99c96767860118",
   "outputs": [],
   "execution_count": null
  },
  {
   "metadata": {},
   "cell_type": "code",
   "source": [
    "import fitz\n",
    "from io import BytesIO\n",
    "from langchain import FAISS\n",
    "from typing import Optional\n",
    "from langchain_cohere import CohereEmbeddings\n",
    "from langchain_text_splitters import RecursiveCharacterTextSplitter"
   ],
   "id": "fbc66f33a2d49ef1",
   "outputs": [],
   "execution_count": null
  },
  {
   "metadata": {},
   "cell_type": "code",
   "source": [
    "def extract_text_and_urls(\n",
    "        uploaded_pdf: Optional[BytesIO] = None,\n",
    "        pdf_path: Optional[str] = None\n",
    ") -> str:\n",
    "    doc = (\n",
    "        fitz.open(pdf_path) if pdf_path\n",
    "        else fitz.open(stream=uploaded_pdf.read(), filetype=\"pdf\")\n",
    "    )\n",
    "    _text = \"\"\n",
    "\n",
    "    for page in doc:\n",
    "        # Extract text and append to the _text variable\n",
    "        _text += page.get_text()\n",
    "\n",
    "        # Extract links and the corresponding text\n",
    "        links = page.get_links()\n",
    "        for link in links:\n",
    "            if \"uri\" in link and \"from\" in link:\n",
    "                link_uri = link[\"uri\"]\n",
    "                link_rect = fitz.Rect(link[\"from\"])\n",
    "\n",
    "                link_text = page.get_text(\"text\", clip=link_rect)\n",
    "                # Append the link URI to the extracted text\n",
    "                _text += f\"\\n{link_text} ({link_uri})\"\n",
    "    \n",
    "    doc.close()\n",
    "    return _text"
   ],
   "id": "f738856e52342b70",
   "outputs": [],
   "execution_count": null
  },
  {
   "metadata": {},
   "cell_type": "code",
   "source": [
    "def process_pdf(pdf_path: str) -> FAISS:\n",
    "    embeddings = CohereEmbeddings(model=\"embed-multilingual-v2.0\")\n",
    "    text_splitter = RecursiveCharacterTextSplitter(\n",
    "        chunk_size=1000,\n",
    "        chunk_overlap=200,\n",
    "        length_function=len,\n",
    "        is_separator_regex=False,\n",
    "    )\n",
    "    \n",
    "    text, urls = extract_text_and_urls(pdf_path=pdf_path)\n",
    "    \n",
    "    chunks = text_splitter.split_text(text)\n",
    "    \n",
    "    return FAISS.from_texts(chunks, embeddings)"
   ],
   "id": "55489577eea970d3",
   "outputs": [],
   "execution_count": null
  },
  {
   "metadata": {},
   "cell_type": "code",
   "source": "knowledge_base = process_pdf(\"/Users/chaitanyabasava/Desktop/Sai Naga Viswa Chaitanya_Basava_resume.pdf\")",
   "id": "17b24082fa33e73a",
   "outputs": [],
   "execution_count": null
  },
  {
   "metadata": {},
   "cell_type": "code",
   "source": "",
   "id": "4d722d1afcc1553d",
   "outputs": [],
   "execution_count": null
  },
  {
   "metadata": {},
   "cell_type": "code",
   "source": "",
   "id": "688a3cbc7ecd8664",
   "outputs": [],
   "execution_count": null
  },
  {
   "metadata": {},
   "cell_type": "code",
   "source": "",
   "id": "41a6701209cfd7b6",
   "outputs": [],
   "execution_count": null
  },
  {
   "metadata": {},
   "cell_type": "code",
   "source": [
    "from model import LLM, LLMBuilder\n",
    "from langchain_core.prompts import ChatPromptTemplate"
   ],
   "id": "d9409f49d7650e51",
   "outputs": [],
   "execution_count": null
  },
  {
   "metadata": {},
   "cell_type": "code",
   "source": "llm = LLMBuilder.get_llm(LLM.COHERE_COMMAND_R)",
   "id": "e1cc8f14e64b70be",
   "outputs": [],
   "execution_count": null
  },
  {
   "metadata": {},
   "cell_type": "code",
   "source": [
    "prompt = ChatPromptTemplate.from_template(\"tell me a lame joke about {topic}\")\n",
    "\n",
    "openrouter_chain = prompt | llm"
   ],
   "id": "9adffa1aeb374da2",
   "outputs": [],
   "execution_count": null
  },
  {
   "metadata": {},
   "cell_type": "code",
   "source": "print(openrouter_chain.invoke({\"topic\": \"F.R.I.E.N.D.S\"}))",
   "id": "87f597e0f3c2fd3f",
   "outputs": [],
   "execution_count": null
  },
  {
   "metadata": {},
   "cell_type": "code",
   "source": "",
   "id": "656d55a3e8a67b5e",
   "outputs": [],
   "execution_count": null
  }
 ],
 "metadata": {
  "kernelspec": {
   "display_name": "Python 3",
   "language": "python",
   "name": "python3"
  },
  "language_info": {
   "codemirror_mode": {
    "name": "ipython",
    "version": 2
   },
   "file_extension": ".py",
   "mimetype": "text/x-python",
   "name": "python",
   "nbconvert_exporter": "python",
   "pygments_lexer": "ipython2",
   "version": "2.7.6"
  }
 },
 "nbformat": 4,
 "nbformat_minor": 5
}
