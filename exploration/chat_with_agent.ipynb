{
 "cells": [
  {
   "cell_type": "code",
   "id": "initial_id",
   "metadata": {
    "collapsed": true,
    "ExecuteTime": {
     "end_time": "2024-07-29T22:46:29.268019Z",
     "start_time": "2024-07-29T22:46:27.270646Z"
    }
   },
   "source": [
    "from model import LLM\n",
    "from pdf_parser import process_pdf\n",
    "\n",
    "from langchain_core.messages import HumanMessage\n",
    "from langgraph.prebuilt import create_react_agent\n",
    "from langgraph.checkpoint.sqlite import SqliteSaver\n",
    "from langchain.tools.retriever import create_retriever_tool"
   ],
   "outputs": [
    {
     "name": "stdout",
     "output_type": "stream",
     "text": [
      "True\n"
     ]
    }
   ],
   "execution_count": 1
  },
  {
   "metadata": {
    "ExecuteTime": {
     "end_time": "2024-07-29T22:47:50.402557Z",
     "start_time": "2024-07-29T22:47:05.720060Z"
    }
   },
   "cell_type": "code",
   "source": [
    "llm = LLM.get_llm(LLM.get_llm_by_id(2))\n",
    "retriever, _ = process_pdf(pdf_path=\"/Users/chaitanyabasava/Desktop/Sai Naga Viswa Chaitanya_Basava_resume.pdf\")"
   ],
   "id": "3275797efeb41ea0",
   "outputs": [],
   "execution_count": 5
  },
  {
   "metadata": {
    "ExecuteTime": {
     "end_time": "2024-07-29T22:48:14.001976Z",
     "start_time": "2024-07-29T22:48:13.997531Z"
    }
   },
   "cell_type": "code",
   "source": [
    "tool = create_retriever_tool(\n",
    "    retriever,\n",
    "    \"pdf_retriever\",\n",
    "    \"Searches and returns relevant information from the uploaded PDF to answer the user's questions.\",\n",
    ")\n",
    "\n",
    "tools = [tool]"
   ],
   "id": "47deabb8cb14e679",
   "outputs": [],
   "execution_count": 6
  },
  {
   "metadata": {
    "ExecuteTime": {
     "end_time": "2024-07-29T22:48:14.808656Z",
     "start_time": "2024-07-29T22:48:14.801887Z"
    }
   },
   "cell_type": "code",
   "source": [
    "memory = SqliteSaver.from_conn_string(\":memory:\")\n",
    "\n",
    "agent_executor = create_react_agent(llm, tools, checkpointer=memory)"
   ],
   "id": "e46a373c6e231a04",
   "outputs": [],
   "execution_count": 7
  },
  {
   "metadata": {
    "ExecuteTime": {
     "end_time": "2024-07-29T22:48:15.597538Z",
     "start_time": "2024-07-29T22:48:15.593817Z"
    }
   },
   "cell_type": "code",
   "source": "config = {\"configurable\": {\"thread_id\": \"abc123\"}}",
   "id": "bf70e40f65d81605",
   "outputs": [],
   "execution_count": 8
  },
  {
   "metadata": {
    "ExecuteTime": {
     "end_time": "2024-07-29T22:55:59.180585Z",
     "start_time": "2024-07-29T22:51:31.672638Z"
    }
   },
   "cell_type": "code",
   "source": [
    "query = \"What is the name in the document?\"\n",
    "\n",
    "for s in agent_executor.stream(\n",
    "    {\"messages\": [HumanMessage(content=query)]}, config=config\n",
    "):\n",
    "    print(s)\n",
    "    print(\"----\")"
   ],
   "id": "51d655c3ef8af0b2",
   "outputs": [
    {
     "name": "stdout",
     "output_type": "stream",
     "text": [
      "{'agent': {'messages': [AIMessage(content='I will search the document for names.', additional_kwargs={'documents': None, 'citations': None, 'search_results': None, 'search_queries': None, 'is_search_required': None, 'generation_id': 'a18ce8aa-6942-4054-bc53-934e81ecef6c', 'tool_calls': [{'id': '15e48dc796fa42d8a317a01af87e6cfb', 'function': {'name': 'pdf_retriever', 'arguments': '{\"query\": \"names\"}'}, 'type': 'function'}], 'token_count': {'input_tokens': 947, 'output_tokens': 51}}, response_metadata={'documents': None, 'citations': None, 'search_results': None, 'search_queries': None, 'is_search_required': None, 'generation_id': 'a18ce8aa-6942-4054-bc53-934e81ecef6c', 'tool_calls': [{'id': '15e48dc796fa42d8a317a01af87e6cfb', 'function': {'name': 'pdf_retriever', 'arguments': '{\"query\": \"names\"}'}, 'type': 'function'}], 'token_count': {'input_tokens': 947, 'output_tokens': 51}}, id='run-6529f6b1-b84d-4046-a417-32884eda305b-0', tool_calls=[{'name': 'pdf_retriever', 'args': {'query': 'names'}, 'id': '8f148b1fff6741678f4238948fa84f23', 'type': 'tool_call'}], usage_metadata={'input_tokens': 947, 'output_tokens': 51, 'total_tokens': 998})]}}\n",
      "----\n"
     ]
    },
    {
     "ename": "KeyboardInterrupt",
     "evalue": "",
     "output_type": "error",
     "traceback": [
      "\u001B[0;31m---------------------------------------------------------------------------\u001B[0m",
      "\u001B[0;31mKeyboardInterrupt\u001B[0m                         Traceback (most recent call last)",
      "File \u001B[0;32m~/miniconda3/envs/revamper/lib/python3.10/contextlib.py:153\u001B[0m, in \u001B[0;36m_GeneratorContextManager.__exit__\u001B[0;34m(self, typ, value, traceback)\u001B[0m\n\u001B[1;32m    152\u001B[0m \u001B[38;5;28;01mtry\u001B[39;00m:\n\u001B[0;32m--> 153\u001B[0m     \u001B[38;5;28;43mself\u001B[39;49m\u001B[38;5;241;43m.\u001B[39;49m\u001B[43mgen\u001B[49m\u001B[38;5;241;43m.\u001B[39;49m\u001B[43mthrow\u001B[49m\u001B[43m(\u001B[49m\u001B[43mtyp\u001B[49m\u001B[43m,\u001B[49m\u001B[43m \u001B[49m\u001B[43mvalue\u001B[49m\u001B[43m,\u001B[49m\u001B[43m \u001B[49m\u001B[43mtraceback\u001B[49m\u001B[43m)\u001B[49m\n\u001B[1;32m    154\u001B[0m \u001B[38;5;28;01mexcept\u001B[39;00m \u001B[38;5;167;01mStopIteration\u001B[39;00m \u001B[38;5;28;01mas\u001B[39;00m exc:\n\u001B[1;32m    155\u001B[0m     \u001B[38;5;66;03m# Suppress StopIteration *unless* it's the same exception that\u001B[39;00m\n\u001B[1;32m    156\u001B[0m     \u001B[38;5;66;03m# was passed to throw().  This prevents a StopIteration\u001B[39;00m\n\u001B[1;32m    157\u001B[0m     \u001B[38;5;66;03m# raised inside the \"with\" statement from being suppressed.\u001B[39;00m\n",
      "File \u001B[0;32m~/miniconda3/envs/revamper/lib/python3.10/site-packages/langgraph/channels/manager.py:21\u001B[0m, in \u001B[0;36mChannelsManager\u001B[0;34m(channels, checkpoint, config)\u001B[0m\n\u001B[1;32m     20\u001B[0m \u001B[38;5;28;01mwith\u001B[39;00m ExitStack() \u001B[38;5;28;01mas\u001B[39;00m stack:\n\u001B[0;32m---> 21\u001B[0m     \u001B[38;5;28;01myield\u001B[39;00m {\n\u001B[1;32m     22\u001B[0m         k: stack\u001B[38;5;241m.\u001B[39menter_context(\n\u001B[1;32m     23\u001B[0m             v\u001B[38;5;241m.\u001B[39mfrom_checkpoint(checkpoint[\u001B[38;5;124m\"\u001B[39m\u001B[38;5;124mchannel_values\u001B[39m\u001B[38;5;124m\"\u001B[39m]\u001B[38;5;241m.\u001B[39mget(k), config)\n\u001B[1;32m     24\u001B[0m         )\n\u001B[1;32m     25\u001B[0m         \u001B[38;5;28;01mfor\u001B[39;00m k, v \u001B[38;5;129;01min\u001B[39;00m channels\u001B[38;5;241m.\u001B[39mitems()\n\u001B[1;32m     26\u001B[0m     }\n",
      "File \u001B[0;32m~/miniconda3/envs/revamper/lib/python3.10/site-packages/langgraph/pregel/__init__.py:906\u001B[0m, in \u001B[0;36mPregel.stream\u001B[0;34m(self, input, config, stream_mode, output_keys, interrupt_before, interrupt_after, debug)\u001B[0m\n\u001B[1;32m    905\u001B[0m \u001B[38;5;28;01mwhile\u001B[39;00m futures:\n\u001B[0;32m--> 906\u001B[0m     done, inflight \u001B[38;5;241m=\u001B[39m \u001B[43mconcurrent\u001B[49m\u001B[38;5;241;43m.\u001B[39;49m\u001B[43mfutures\u001B[49m\u001B[38;5;241;43m.\u001B[39;49m\u001B[43mwait\u001B[49m\u001B[43m(\u001B[49m\n\u001B[1;32m    907\u001B[0m \u001B[43m        \u001B[49m\u001B[43mfutures\u001B[49m\u001B[43m,\u001B[49m\n\u001B[1;32m    908\u001B[0m \u001B[43m        \u001B[49m\u001B[43mreturn_when\u001B[49m\u001B[38;5;241;43m=\u001B[39;49m\u001B[43mconcurrent\u001B[49m\u001B[38;5;241;43m.\u001B[39;49m\u001B[43mfutures\u001B[49m\u001B[38;5;241;43m.\u001B[39;49m\u001B[43mFIRST_COMPLETED\u001B[49m\u001B[43m,\u001B[49m\n\u001B[1;32m    909\u001B[0m \u001B[43m        \u001B[49m\u001B[43mtimeout\u001B[49m\u001B[38;5;241;43m=\u001B[39;49m\u001B[43m(\u001B[49m\n\u001B[1;32m    910\u001B[0m \u001B[43m            \u001B[49m\u001B[38;5;28;43mmax\u001B[39;49m\u001B[43m(\u001B[49m\u001B[38;5;241;43m0\u001B[39;49m\u001B[43m,\u001B[49m\u001B[43m \u001B[49m\u001B[43mend_time\u001B[49m\u001B[43m \u001B[49m\u001B[38;5;241;43m-\u001B[39;49m\u001B[43m \u001B[49m\u001B[43mtime\u001B[49m\u001B[38;5;241;43m.\u001B[39;49m\u001B[43mmonotonic\u001B[49m\u001B[43m(\u001B[49m\u001B[43m)\u001B[49m\u001B[43m)\u001B[49m\n\u001B[1;32m    911\u001B[0m \u001B[43m            \u001B[49m\u001B[38;5;28;43;01mif\u001B[39;49;00m\u001B[43m \u001B[49m\u001B[43mend_time\u001B[49m\n\u001B[1;32m    912\u001B[0m \u001B[43m            \u001B[49m\u001B[38;5;28;43;01melse\u001B[39;49;00m\u001B[43m \u001B[49m\u001B[38;5;28;43;01mNone\u001B[39;49;00m\n\u001B[1;32m    913\u001B[0m \u001B[43m        \u001B[49m\u001B[43m)\u001B[49m\u001B[43m,\u001B[49m\n\u001B[1;32m    914\u001B[0m \u001B[43m    \u001B[49m\u001B[43m)\u001B[49m\n\u001B[1;32m    915\u001B[0m     \u001B[38;5;28;01mif\u001B[39;00m \u001B[38;5;129;01mnot\u001B[39;00m done:\n",
      "File \u001B[0;32m~/miniconda3/envs/revamper/lib/python3.10/concurrent/futures/_base.py:307\u001B[0m, in \u001B[0;36mwait\u001B[0;34m(fs, timeout, return_when)\u001B[0m\n\u001B[1;32m    305\u001B[0m     waiter \u001B[38;5;241m=\u001B[39m _create_and_install_waiters(fs, return_when)\n\u001B[0;32m--> 307\u001B[0m \u001B[43mwaiter\u001B[49m\u001B[38;5;241;43m.\u001B[39;49m\u001B[43mevent\u001B[49m\u001B[38;5;241;43m.\u001B[39;49m\u001B[43mwait\u001B[49m\u001B[43m(\u001B[49m\u001B[43mtimeout\u001B[49m\u001B[43m)\u001B[49m\n\u001B[1;32m    308\u001B[0m \u001B[38;5;28;01mfor\u001B[39;00m f \u001B[38;5;129;01min\u001B[39;00m fs:\n",
      "File \u001B[0;32m~/miniconda3/envs/revamper/lib/python3.10/threading.py:607\u001B[0m, in \u001B[0;36mEvent.wait\u001B[0;34m(self, timeout)\u001B[0m\n\u001B[1;32m    606\u001B[0m \u001B[38;5;28;01mif\u001B[39;00m \u001B[38;5;129;01mnot\u001B[39;00m signaled:\n\u001B[0;32m--> 607\u001B[0m     signaled \u001B[38;5;241m=\u001B[39m \u001B[38;5;28;43mself\u001B[39;49m\u001B[38;5;241;43m.\u001B[39;49m\u001B[43m_cond\u001B[49m\u001B[38;5;241;43m.\u001B[39;49m\u001B[43mwait\u001B[49m\u001B[43m(\u001B[49m\u001B[43mtimeout\u001B[49m\u001B[43m)\u001B[49m\n\u001B[1;32m    608\u001B[0m \u001B[38;5;28;01mreturn\u001B[39;00m signaled\n",
      "File \u001B[0;32m~/miniconda3/envs/revamper/lib/python3.10/threading.py:320\u001B[0m, in \u001B[0;36mCondition.wait\u001B[0;34m(self, timeout)\u001B[0m\n\u001B[1;32m    319\u001B[0m \u001B[38;5;28;01mif\u001B[39;00m timeout \u001B[38;5;129;01mis\u001B[39;00m \u001B[38;5;28;01mNone\u001B[39;00m:\n\u001B[0;32m--> 320\u001B[0m     \u001B[43mwaiter\u001B[49m\u001B[38;5;241;43m.\u001B[39;49m\u001B[43macquire\u001B[49m\u001B[43m(\u001B[49m\u001B[43m)\u001B[49m\n\u001B[1;32m    321\u001B[0m     gotit \u001B[38;5;241m=\u001B[39m \u001B[38;5;28;01mTrue\u001B[39;00m\n",
      "\u001B[0;31mKeyboardInterrupt\u001B[0m: ",
      "\nDuring handling of the above exception, another exception occurred:\n",
      "\u001B[0;31mKeyboardInterrupt\u001B[0m                         Traceback (most recent call last)",
      "Cell \u001B[0;32mIn[11], line 3\u001B[0m\n\u001B[1;32m      1\u001B[0m query \u001B[38;5;241m=\u001B[39m \u001B[38;5;124m\"\u001B[39m\u001B[38;5;124mWhat is the name in the document?\u001B[39m\u001B[38;5;124m\"\u001B[39m\n\u001B[0;32m----> 3\u001B[0m \u001B[38;5;28;01mfor\u001B[39;00m s \u001B[38;5;129;01min\u001B[39;00m agent_executor\u001B[38;5;241m.\u001B[39mstream(\n\u001B[1;32m      4\u001B[0m     {\u001B[38;5;124m\"\u001B[39m\u001B[38;5;124mmessages\u001B[39m\u001B[38;5;124m\"\u001B[39m: [HumanMessage(content\u001B[38;5;241m=\u001B[39mquery)]}, config\u001B[38;5;241m=\u001B[39mconfig\n\u001B[1;32m      5\u001B[0m ):\n\u001B[1;32m      6\u001B[0m     \u001B[38;5;28mprint\u001B[39m(s)\n\u001B[1;32m      7\u001B[0m     \u001B[38;5;28mprint\u001B[39m(\u001B[38;5;124m\"\u001B[39m\u001B[38;5;124m----\u001B[39m\u001B[38;5;124m\"\u001B[39m)\n",
      "File \u001B[0;32m~/miniconda3/envs/revamper/lib/python3.10/site-packages/langgraph/pregel/__init__.py:853\u001B[0m, in \u001B[0;36mPregel.stream\u001B[0;34m(self, input, config, stream_mode, output_keys, interrupt_before, interrupt_after, debug)\u001B[0m\n\u001B[1;32m    836\u001B[0m \u001B[38;5;66;03m# assign defaults\u001B[39;00m\n\u001B[1;32m    837\u001B[0m (\n\u001B[1;32m    838\u001B[0m     debug,\n\u001B[1;32m    839\u001B[0m     stream_modes,\n\u001B[0;32m   (...)\u001B[0m\n\u001B[1;32m    850\u001B[0m     debug\u001B[38;5;241m=\u001B[39mdebug,\n\u001B[1;32m    851\u001B[0m )\n\u001B[0;32m--> 853\u001B[0m \u001B[38;5;28;01mwith\u001B[39;00m SyncPregelLoop(\n\u001B[1;32m    854\u001B[0m     \u001B[38;5;28minput\u001B[39m, config\u001B[38;5;241m=\u001B[39mconfig, checkpointer\u001B[38;5;241m=\u001B[39mcheckpointer, graph\u001B[38;5;241m=\u001B[39m\u001B[38;5;28mself\u001B[39m\n\u001B[1;32m    855\u001B[0m ) \u001B[38;5;28;01mas\u001B[39;00m loop:\n\u001B[1;32m    856\u001B[0m     \u001B[38;5;66;03m# Similarly to Bulk Synchronous Parallel / Pregel model\u001B[39;00m\n\u001B[1;32m    857\u001B[0m     \u001B[38;5;66;03m# computation proceeds in steps, while there are channel updates\u001B[39;00m\n\u001B[1;32m    858\u001B[0m     \u001B[38;5;66;03m# channel updates from step N are only visible in step N+1\u001B[39;00m\n\u001B[1;32m    859\u001B[0m     \u001B[38;5;66;03m# channels are guaranteed to be immutable for the duration of the step,\u001B[39;00m\n\u001B[1;32m    860\u001B[0m     \u001B[38;5;66;03m# with channel updates applied only at the transition between steps\u001B[39;00m\n\u001B[1;32m    861\u001B[0m     \u001B[38;5;28;01mwhile\u001B[39;00m loop\u001B[38;5;241m.\u001B[39mtick(\n\u001B[1;32m    862\u001B[0m         output_keys\u001B[38;5;241m=\u001B[39moutput_keys,\n\u001B[1;32m    863\u001B[0m         interrupt_before\u001B[38;5;241m=\u001B[39minterrupt_before,\n\u001B[0;32m   (...)\u001B[0m\n\u001B[1;32m    866\u001B[0m     ):\n\u001B[1;32m    867\u001B[0m         \u001B[38;5;66;03m# debug flag\u001B[39;00m\n\u001B[1;32m    868\u001B[0m         \u001B[38;5;28;01mif\u001B[39;00m \u001B[38;5;28mself\u001B[39m\u001B[38;5;241m.\u001B[39mdebug:\n",
      "File \u001B[0;32m~/miniconda3/envs/revamper/lib/python3.10/site-packages/langgraph/pregel/loop.py:435\u001B[0m, in \u001B[0;36mSyncPregelLoop.__exit__\u001B[0;34m(self, exc_type, exc_value, traceback)\u001B[0m\n\u001B[1;32m    427\u001B[0m \u001B[38;5;28;01mdef\u001B[39;00m \u001B[38;5;21m__exit__\u001B[39m(\n\u001B[1;32m    428\u001B[0m     \u001B[38;5;28mself\u001B[39m,\n\u001B[1;32m    429\u001B[0m     exc_type: Optional[Type[\u001B[38;5;167;01mBaseException\u001B[39;00m]],\n\u001B[0;32m   (...)\u001B[0m\n\u001B[1;32m    432\u001B[0m ) \u001B[38;5;241m-\u001B[39m\u001B[38;5;241m>\u001B[39m Optional[\u001B[38;5;28mbool\u001B[39m]:\n\u001B[1;32m    433\u001B[0m     \u001B[38;5;66;03m# unwind stack\u001B[39;00m\n\u001B[1;32m    434\u001B[0m     \u001B[38;5;28;01mdel\u001B[39;00m \u001B[38;5;28mself\u001B[39m\u001B[38;5;241m.\u001B[39mgraph\n\u001B[0;32m--> 435\u001B[0m     \u001B[38;5;28;01mreturn\u001B[39;00m \u001B[38;5;28;43mself\u001B[39;49m\u001B[38;5;241;43m.\u001B[39;49m\u001B[43mstack\u001B[49m\u001B[38;5;241;43m.\u001B[39;49m\u001B[38;5;21;43m__exit__\u001B[39;49m\u001B[43m(\u001B[49m\u001B[43mexc_type\u001B[49m\u001B[43m,\u001B[49m\u001B[43m \u001B[49m\u001B[43mexc_value\u001B[49m\u001B[43m,\u001B[49m\u001B[43m \u001B[49m\u001B[43mtraceback\u001B[49m\u001B[43m)\u001B[49m\n",
      "File \u001B[0;32m~/miniconda3/envs/revamper/lib/python3.10/contextlib.py:576\u001B[0m, in \u001B[0;36mExitStack.__exit__\u001B[0;34m(self, *exc_details)\u001B[0m\n\u001B[1;32m    572\u001B[0m \u001B[38;5;28;01mtry\u001B[39;00m:\n\u001B[1;32m    573\u001B[0m     \u001B[38;5;66;03m# bare \"raise exc_details[1]\" replaces our carefully\u001B[39;00m\n\u001B[1;32m    574\u001B[0m     \u001B[38;5;66;03m# set-up context\u001B[39;00m\n\u001B[1;32m    575\u001B[0m     fixed_ctx \u001B[38;5;241m=\u001B[39m exc_details[\u001B[38;5;241m1\u001B[39m]\u001B[38;5;241m.\u001B[39m__context__\n\u001B[0;32m--> 576\u001B[0m     \u001B[38;5;28;01mraise\u001B[39;00m exc_details[\u001B[38;5;241m1\u001B[39m]\n\u001B[1;32m    577\u001B[0m \u001B[38;5;28;01mexcept\u001B[39;00m \u001B[38;5;167;01mBaseException\u001B[39;00m:\n\u001B[1;32m    578\u001B[0m     exc_details[\u001B[38;5;241m1\u001B[39m]\u001B[38;5;241m.\u001B[39m__context__ \u001B[38;5;241m=\u001B[39m fixed_ctx\n",
      "File \u001B[0;32m~/miniconda3/envs/revamper/lib/python3.10/contextlib.py:561\u001B[0m, in \u001B[0;36mExitStack.__exit__\u001B[0;34m(self, *exc_details)\u001B[0m\n\u001B[1;32m    559\u001B[0m \u001B[38;5;28;01massert\u001B[39;00m is_sync\n\u001B[1;32m    560\u001B[0m \u001B[38;5;28;01mtry\u001B[39;00m:\n\u001B[0;32m--> 561\u001B[0m     \u001B[38;5;28;01mif\u001B[39;00m \u001B[43mcb\u001B[49m\u001B[43m(\u001B[49m\u001B[38;5;241;43m*\u001B[39;49m\u001B[43mexc_details\u001B[49m\u001B[43m)\u001B[49m:\n\u001B[1;32m    562\u001B[0m         suppressed_exc \u001B[38;5;241m=\u001B[39m \u001B[38;5;28;01mTrue\u001B[39;00m\n\u001B[1;32m    563\u001B[0m         pending_raise \u001B[38;5;241m=\u001B[39m \u001B[38;5;28;01mFalse\u001B[39;00m\n",
      "File \u001B[0;32m~/miniconda3/envs/revamper/lib/python3.10/site-packages/langgraph/pregel/executor.py:85\u001B[0m, in \u001B[0;36mBackgroundExecutor.__exit__\u001B[0;34m(self, exc_type, exc_value, traceback)\u001B[0m\n\u001B[1;32m     83\u001B[0m \u001B[38;5;66;03m# wait for all tasks to finish\u001B[39;00m\n\u001B[1;32m     84\u001B[0m \u001B[38;5;28;01mif\u001B[39;00m tasks \u001B[38;5;241m:=\u001B[39m {t \u001B[38;5;28;01mfor\u001B[39;00m t \u001B[38;5;129;01min\u001B[39;00m \u001B[38;5;28mself\u001B[39m\u001B[38;5;241m.\u001B[39mtasks \u001B[38;5;28;01mif\u001B[39;00m \u001B[38;5;129;01mnot\u001B[39;00m t\u001B[38;5;241m.\u001B[39mdone()}:\n\u001B[0;32m---> 85\u001B[0m     \u001B[43mconcurrent\u001B[49m\u001B[38;5;241;43m.\u001B[39;49m\u001B[43mfutures\u001B[49m\u001B[38;5;241;43m.\u001B[39;49m\u001B[43mwait\u001B[49m\u001B[43m(\u001B[49m\u001B[43mtasks\u001B[49m\u001B[43m)\u001B[49m\n\u001B[1;32m     86\u001B[0m \u001B[38;5;66;03m# shutdown the executor\u001B[39;00m\n\u001B[1;32m     87\u001B[0m \u001B[38;5;28mself\u001B[39m\u001B[38;5;241m.\u001B[39mstack\u001B[38;5;241m.\u001B[39m\u001B[38;5;21m__exit__\u001B[39m(exc_type, exc_value, traceback)\n",
      "File \u001B[0;32m~/miniconda3/envs/revamper/lib/python3.10/concurrent/futures/_base.py:307\u001B[0m, in \u001B[0;36mwait\u001B[0;34m(fs, timeout, return_when)\u001B[0m\n\u001B[1;32m    303\u001B[0m         \u001B[38;5;28;01mreturn\u001B[39;00m DoneAndNotDoneFutures(done, not_done)\n\u001B[1;32m    305\u001B[0m     waiter \u001B[38;5;241m=\u001B[39m _create_and_install_waiters(fs, return_when)\n\u001B[0;32m--> 307\u001B[0m \u001B[43mwaiter\u001B[49m\u001B[38;5;241;43m.\u001B[39;49m\u001B[43mevent\u001B[49m\u001B[38;5;241;43m.\u001B[39;49m\u001B[43mwait\u001B[49m\u001B[43m(\u001B[49m\u001B[43mtimeout\u001B[49m\u001B[43m)\u001B[49m\n\u001B[1;32m    308\u001B[0m \u001B[38;5;28;01mfor\u001B[39;00m f \u001B[38;5;129;01min\u001B[39;00m fs:\n\u001B[1;32m    309\u001B[0m     \u001B[38;5;28;01mwith\u001B[39;00m f\u001B[38;5;241m.\u001B[39m_condition:\n",
      "File \u001B[0;32m~/miniconda3/envs/revamper/lib/python3.10/threading.py:607\u001B[0m, in \u001B[0;36mEvent.wait\u001B[0;34m(self, timeout)\u001B[0m\n\u001B[1;32m    605\u001B[0m signaled \u001B[38;5;241m=\u001B[39m \u001B[38;5;28mself\u001B[39m\u001B[38;5;241m.\u001B[39m_flag\n\u001B[1;32m    606\u001B[0m \u001B[38;5;28;01mif\u001B[39;00m \u001B[38;5;129;01mnot\u001B[39;00m signaled:\n\u001B[0;32m--> 607\u001B[0m     signaled \u001B[38;5;241m=\u001B[39m \u001B[38;5;28;43mself\u001B[39;49m\u001B[38;5;241;43m.\u001B[39;49m\u001B[43m_cond\u001B[49m\u001B[38;5;241;43m.\u001B[39;49m\u001B[43mwait\u001B[49m\u001B[43m(\u001B[49m\u001B[43mtimeout\u001B[49m\u001B[43m)\u001B[49m\n\u001B[1;32m    608\u001B[0m \u001B[38;5;28;01mreturn\u001B[39;00m signaled\n",
      "File \u001B[0;32m~/miniconda3/envs/revamper/lib/python3.10/threading.py:320\u001B[0m, in \u001B[0;36mCondition.wait\u001B[0;34m(self, timeout)\u001B[0m\n\u001B[1;32m    318\u001B[0m \u001B[38;5;28;01mtry\u001B[39;00m:    \u001B[38;5;66;03m# restore state no matter what (e.g., KeyboardInterrupt)\u001B[39;00m\n\u001B[1;32m    319\u001B[0m     \u001B[38;5;28;01mif\u001B[39;00m timeout \u001B[38;5;129;01mis\u001B[39;00m \u001B[38;5;28;01mNone\u001B[39;00m:\n\u001B[0;32m--> 320\u001B[0m         \u001B[43mwaiter\u001B[49m\u001B[38;5;241;43m.\u001B[39;49m\u001B[43macquire\u001B[49m\u001B[43m(\u001B[49m\u001B[43m)\u001B[49m\n\u001B[1;32m    321\u001B[0m         gotit \u001B[38;5;241m=\u001B[39m \u001B[38;5;28;01mTrue\u001B[39;00m\n\u001B[1;32m    322\u001B[0m     \u001B[38;5;28;01melse\u001B[39;00m:\n",
      "\u001B[0;31mKeyboardInterrupt\u001B[0m: "
     ]
    }
   ],
   "execution_count": 11
  },
  {
   "metadata": {},
   "cell_type": "code",
   "outputs": [],
   "execution_count": null,
   "source": "",
   "id": "73d408ffe61061bb"
  }
 ],
 "metadata": {
  "kernelspec": {
   "display_name": "Python 3",
   "language": "python",
   "name": "python3"
  },
  "language_info": {
   "codemirror_mode": {
    "name": "ipython",
    "version": 2
   },
   "file_extension": ".py",
   "mimetype": "text/x-python",
   "name": "python",
   "nbconvert_exporter": "python",
   "pygments_lexer": "ipython2",
   "version": "2.7.6"
  }
 },
 "nbformat": 4,
 "nbformat_minor": 5
}
